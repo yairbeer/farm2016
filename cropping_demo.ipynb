{
 "cells": [
  {
   "cell_type": "code",
   "execution_count": 1,
   "metadata": {
    "collapsed": false
   },
   "outputs": [],
   "source": [
    "import glob\n",
    "import numpy as np\n",
    "from skimage.io import imread\n",
    "\n",
    "\"\"\"\n",
    "Import images\n",
    "\"\"\"\n",
    "\n",
    "# Set path of data files\n",
    "path = \"imgs\"\n",
    "\n",
    "img_size_y = 25\n",
    "img_size_x = 40\n",
    "\n",
    "img_per_class = 10\n",
    "\n",
    "train_files_unlabeled = sorted(glob.glob(path + \"/train/*\"))\n",
    "\n",
    "train_files_labeled = []\n",
    "for fol in train_files_unlabeled:\n",
    "    train_files_labeled.append(glob.glob(fol + '/*'))\n",
    "\n",
    "img_list = []\n",
    "for fol in train_files_labeled:\n",
    "    for im_i in range(img_per_class):\n",
    "        image = imread(fol[im_i])\n",
    "        image = image / 256\n",
    "        img_list.append(image)"
   ]
  },
  {
   "cell_type": "code",
   "execution_count": 2,
   "metadata": {
    "collapsed": false
   },
   "outputs": [],
   "source": [
    "import matplotlib.pyplot as plt\n",
    "\n",
    "\"\"\"\n",
    "Draw images\n",
    "\"\"\"\n",
    "\n",
    "def img_draw(img_list, n_rows):\n",
    "    plt.figure(1)\n",
    "    n_cols = 10\n",
    "    for i, img_i in enumerate(img_list):\n",
    "        plt.subplot(n_cols, n_rows, i + 1)\n",
    "        plt.title('C' + str(int(i / 10)))\n",
    "        plt.imshow(img_i)\n",
    "    plt.show()\n",
    "\n",
    "img_draw(img_list, img_per_class)"
   ]
  },
  {
   "cell_type": "code",
   "execution_count": 23,
   "metadata": {
    "collapsed": false
   },
   "outputs": [],
   "source": [
    "\"\"\"\n",
    "Crop heads\n",
    "\"\"\"\n",
    "head_img_list = []\n",
    "for img in img_list:\n",
    "    head_img_list.append(img[50:300, :400, :])\n",
    "\n",
    "img_draw(head_img_list, img_per_class)"
   ]
  },
  {
   "cell_type": "code",
   "execution_count": 29,
   "metadata": {
    "collapsed": false
   },
   "outputs": [],
   "source": [
    "from skimage.transform import resize\n",
    "\n",
    "\"\"\"\n",
    "Resize heads\n",
    "\"\"\"\n",
    "head_resize_img_list = []\n",
    "for img in head_img_list:\n",
    "    head_resize_img_list.append(resize(img, (img_size_y, img_size_x)))\n",
    "\n",
    "img_draw(head_resize_img_list, img_per_class)"
   ]
  },
  {
   "cell_type": "code",
   "execution_count": null,
   "metadata": {
    "collapsed": true
   },
   "outputs": [],
   "source": []
  }
 ],
 "metadata": {
  "kernelspec": {
   "display_name": "Python 3",
   "language": "python",
   "name": "python3"
  },
  "language_info": {
   "codemirror_mode": {
    "name": "ipython",
    "version": 3
   },
   "file_extension": ".py",
   "mimetype": "text/x-python",
   "name": "python",
   "nbconvert_exporter": "python",
   "pygments_lexer": "ipython3",
   "version": "3.4.3"
  }
 },
 "nbformat": 4,
 "nbformat_minor": 0
}
